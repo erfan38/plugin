{
 "cells": [
  {
   "cell_type": "code",
   "execution_count": 4,
   "id": "558366d7-a029-450e-b9bc-09631884a377",
   "metadata": {},
   "outputs": [],
   "source": [
    "#!npm install -g yo generator-code"
   ]
  },
  {
   "cell_type": "code",
   "execution_count": 5,
   "id": "e125f0a8-7471-4b46-9727-815ff47799ec",
   "metadata": {},
   "outputs": [],
   "source": [
    "#!yo code"
   ]
  },
  {
   "cell_type": "code",
   "execution_count": null,
   "id": "5cc57536-8d19-489d-bd0b-5d70e13c3523",
   "metadata": {},
   "outputs": [],
   "source": []
  }
 ],
 "metadata": {
  "kernelspec": {
   "display_name": "Python 3 (ipykernel)",
   "language": "python",
   "name": "python3"
  },
  "language_info": {
   "codemirror_mode": {
    "name": "ipython",
    "version": 3
   },
   "file_extension": ".py",
   "mimetype": "text/x-python",
   "name": "python",
   "nbconvert_exporter": "python",
   "pygments_lexer": "ipython3",
   "version": "3.9.20"
  }
 },
 "nbformat": 4,
 "nbformat_minor": 5
}
